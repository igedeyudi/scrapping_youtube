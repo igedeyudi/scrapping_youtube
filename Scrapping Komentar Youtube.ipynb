{
 "cells": [
  {
   "cell_type": "code",
   "execution_count": 59,
   "id": "6ecbba2f",
   "metadata": {},
   "outputs": [],
   "source": [
    "from bs4 import BeautifulSoup\n",
    "from selenium import webdriver\n",
    "from selenium.webdriver.chrome.options import Options\n",
    "import pandas as pd\n",
    "import time\n",
    "\n",
    "# Set Chrome options\n",
    "chrome_options = Options()\n",
    "chrome_options.add_argument(\"--headless\")  # Use headless mode (optional)\n",
    "chrome_options.add_argument(\"--disable-gpu\")  # Disable GPU acceleration (optional)\n",
    "\n",
    "# Initialize ChromeDriver with the latest version\n",
    "driver = webdriver.Chrome(options=chrome_options)\n",
    "\n",
    "target_url = \"https://www.youtube.com/watch?v=Ix1Ygvhos_E&t=1s\"\n",
    "\n",
    "# Load the target URL\n",
    "driver.get(target_url)\n",
    "\n",
    "driver.maximize_window()\n",
    "time.sleep(4)\n",
    "driver.execute_script(\"window.scrollTo(0, 1000);\")\n",
    "for i in range(0, 6):\n",
    "    time.sleep(2)\n",
    "    driver.execute_script(\"window.scrollTo(0, 10000);\")\n",
    "\n",
    "comments_section = driver.find_element(\"xpath\", '//*[@id=\"comments\"]')\n",
    "\n",
    "# extract the HTML content of the comments section\n",
    "comments_html = comments_section.get_attribute('innerHTML')\n",
    "\n",
    "# parse the HTML content with BeautifulSoup\n",
    "soup = BeautifulSoup(comments_html, 'html.parser')\n",
    "\n",
    "# extract the text of the comments\n",
    "comments = [comment.text for comment in soup.find_all('yt-formatted-string', {'class': 'style-scope ytd-comment-renderer'})]\n",
    "\n",
    "# Create a dataframe from the comments list\n",
    "df = pd.DataFrame(comments, columns=['Comments'])\n",
    "\n",
    "# Save the dataframe to a CSV file\n",
    "df.to_csv('comments.csv', index=False)\n",
    "\n",
    "driver.close()"
   ]
  },
  {
   "cell_type": "code",
   "execution_count": 60,
   "id": "8dd11993",
   "metadata": {},
   "outputs": [
    {
     "data": {
      "text/html": [
       "<div>\n",
       "<style scoped>\n",
       "    .dataframe tbody tr th:only-of-type {\n",
       "        vertical-align: middle;\n",
       "    }\n",
       "\n",
       "    .dataframe tbody tr th {\n",
       "        vertical-align: top;\n",
       "    }\n",
       "\n",
       "    .dataframe thead th {\n",
       "        text-align: right;\n",
       "    }\n",
       "</style>\n",
       "<table border=\"1\" class=\"dataframe\">\n",
       "  <thead>\n",
       "    <tr style=\"text-align: right;\">\n",
       "      <th></th>\n",
       "      <th>Comments</th>\n",
       "    </tr>\n",
       "  </thead>\n",
       "  <tbody>\n",
       "    <tr>\n",
       "      <th>0</th>\n",
       "      <td>Dengan izin Allah dan restu mama papa, aku sia...</td>\n",
       "    </tr>\n",
       "    <tr>\n",
       "      <th>1</th>\n",
       "      <td>Bismillah tahun ini, kita ketemu di STAN ya ga...</td>\n",
       "    </tr>\n",
       "    <tr>\n",
       "      <th>2</th>\n",
       "      <td>Bismillahirahmaanirahiim, Tahun ini Masuk PKN ...</td>\n",
       "    </tr>\n",
       "  </tbody>\n",
       "</table>\n",
       "</div>"
      ],
      "text/plain": [
       "                                            Comments\n",
       "0  Dengan izin Allah dan restu mama papa, aku sia...\n",
       "1  Bismillah tahun ini, kita ketemu di STAN ya ga...\n",
       "2  Bismillahirahmaanirahiim, Tahun ini Masuk PKN ..."
      ]
     },
     "execution_count": 60,
     "metadata": {},
     "output_type": "execute_result"
    }
   ],
   "source": [
    "dataset = pd.read_csv('comments.csv')\n",
    "dataset.head(3)"
   ]
  },
  {
   "cell_type": "code",
   "execution_count": null,
   "id": "9702faae",
   "metadata": {},
   "outputs": [],
   "source": []
  }
 ],
 "metadata": {
  "kernelspec": {
   "display_name": "Python 3 (ipykernel)",
   "language": "python",
   "name": "python3"
  },
  "language_info": {
   "codemirror_mode": {
    "name": "ipython",
    "version": 3
   },
   "file_extension": ".py",
   "mimetype": "text/x-python",
   "name": "python",
   "nbconvert_exporter": "python",
   "pygments_lexer": "ipython3",
   "version": "3.9.12"
  },
  "toc": {
   "base_numbering": 1,
   "nav_menu": {},
   "number_sections": true,
   "sideBar": true,
   "skip_h1_title": false,
   "title_cell": "Table of Contents",
   "title_sidebar": "Contents",
   "toc_cell": false,
   "toc_position": {},
   "toc_section_display": true,
   "toc_window_display": false
  }
 },
 "nbformat": 4,
 "nbformat_minor": 5
}
